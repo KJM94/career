{
  "nbformat": 4,
  "nbformat_minor": 0,
  "metadata": {
    "colab": {
      "name": "jedo.ipynb",
      "provenance": [],
      "collapsed_sections": [],
      "toc_visible": true,
      "mount_file_id": "1CQAzCs1LxiUcM2byc_EMLmfWgo0nH_F4",
      "authorship_tag": "ABX9TyM2q5pl6InykPJ41GN2ucuj",
      "include_colab_link": true
    },
    "kernelspec": {
      "name": "python3",
      "display_name": "Python 3"
    },
    "language_info": {
      "name": "python"
    }
  },
  "cells": [
    {
      "cell_type": "markdown",
      "metadata": {
        "id": "view-in-github",
        "colab_type": "text"
      },
      "source": [
        "<a href=\"https://colab.research.google.com/github/KJM94/career/blob/main/rhaon/jedo.ipynb\" target=\"_parent\"><img src=\"https://colab.research.google.com/assets/colab-badge.svg\" alt=\"Open In Colab\"/></a>"
      ]
    },
    {
      "cell_type": "code",
      "metadata": {
        "colab": {
          "base_uri": "https://localhost:8080/"
        },
        "id": "qa-OkChV1B9i",
        "outputId": "1c4f5d83-e767-405d-a5fd-e001c37c1ab4"
      },
      "source": [
        "from google.colab import drive\n",
        "drive.mount('/content/drive')"
      ],
      "execution_count": 113,
      "outputs": [
        {
          "output_type": "stream",
          "name": "stdout",
          "text": [
            "Drive already mounted at /content/drive; to attempt to forcibly remount, call drive.mount(\"/content/drive\", force_remount=True).\n"
          ]
        }
      ]
    },
    {
      "cell_type": "code",
      "metadata": {
        "id": "pkj7FNplzrzQ"
      },
      "source": [
        "import pandas as pd\n",
        "import matplotlib.pyplot as plt\n",
        "import seaborn as sns\n",
        "import numpy as np"
      ],
      "execution_count": 114,
      "outputs": []
    },
    {
      "cell_type": "code",
      "metadata": {
        "id": "JPaorzLG1WDV"
      },
      "source": [
        "import os\n",
        "\n",
        "os.chdir('/content/drive/MyDrive/Colab Notebooks/ra')"
      ],
      "execution_count": 115,
      "outputs": []
    },
    {
      "cell_type": "code",
      "metadata": {
        "id": "PEfZ-Ly8zxaS",
        "colab": {
          "base_uri": "https://localhost:8080/"
        },
        "outputId": "7a27024f-8939-4670-c1e1-565e2007b302"
      },
      "source": [
        "fd = pd.read_excel('감정의제도코인.xlsx')\n",
        "fd.info()"
      ],
      "execution_count": 265,
      "outputs": [
        {
          "output_type": "stream",
          "name": "stdout",
          "text": [
            "<class 'pandas.core.frame.DataFrame'>\n",
            "RangeIndex: 73709 entries, 0 to 73708\n",
            "Data columns (total 10 columns):\n",
            " #   Column      Non-Null Count  Dtype  \n",
            "---  ------      --------------  -----  \n",
            " 0   Unnamed: 0  0 non-null      float64\n",
            " 1   Unnamed: 1  73708 non-null  object \n",
            " 2   Unnamed: 2  73708 non-null  object \n",
            " 3   Unnamed: 3  73708 non-null  object \n",
            " 4   Unnamed: 4  73708 non-null  object \n",
            " 5   Unnamed: 5  73708 non-null  object \n",
            " 6   Unnamed: 6  73708 non-null  object \n",
            " 7   Unnamed: 7  73708 non-null  object \n",
            " 8   Unnamed: 8  73708 non-null  object \n",
            " 9   Unnamed: 9  73708 non-null  object \n",
            "dtypes: float64(1), object(9)\n",
            "memory usage: 5.6+ MB\n"
          ]
        }
      ]
    },
    {
      "cell_type": "code",
      "metadata": {
        "colab": {
          "base_uri": "https://localhost:8080/"
        },
        "id": "QbPUG33RGw4q",
        "outputId": "092f36e5-5593-4e3c-deea-cd5e60cac248"
      },
      "source": [
        "\n",
        "print(fd)"
      ],
      "execution_count": 298,
      "outputs": [
        {
          "output_type": "stream",
          "name": "stdout",
          "text": [
            "      fdUserNum   fdDesc\n",
            "0      13423277      선물함\n",
            "1      18561683      선물함\n",
            "2      20329616      선물함\n",
            "3       9561678      선물함\n",
            "4      14918959      선물함\n",
            "...         ...      ...\n",
            "73702   5250890  보물상자 열기\n",
            "73703   5250890  보물상자 열기\n",
            "73704   5250890  보물상자 열기\n",
            "73705   5250890  보물상자 열기\n",
            "73706   5250890  보물상자 열기\n",
            "\n",
            "[73707 rows x 2 columns]\n"
          ]
        }
      ]
    },
    {
      "cell_type": "code",
      "metadata": {
        "colab": {
          "base_uri": "https://localhost:8080/"
        },
        "id": "UETCFSzHkaWs",
        "outputId": "5520156d-740f-49db-bbce-4c4dfe7a3454"
      },
      "source": [
        "# 행 삭제\n",
        "\n",
        "# fd.columns = fd.iloc[0]\n",
        "# fd = fd.reindex(fd.index.drop(0)).reset_index(drop=True)\n",
        "# fd.columns.name = None\n",
        "fd.info()"
      ],
      "execution_count": 267,
      "outputs": [
        {
          "output_type": "stream",
          "name": "stdout",
          "text": [
            "       NaN                  fdDateTime  ... fdResultCount   fdDesc\n",
            "0      NaN  2021-07-07 00:02:55.330000  ...           611      선물함\n",
            "1      NaN  2021-07-07 00:10:23.607000  ...           111      선물함\n",
            "2      NaN  2021-07-07 00:46:27.803000  ...           541      선물함\n",
            "3      NaN  2021-07-07 04:46:08.203000  ...           621      선물함\n",
            "4      NaN  2021-07-07 04:51:26.623000  ...           111      선물함\n",
            "...    ...                         ...  ...           ...      ...\n",
            "73702  NaN  2021-08-09 23:59:03.863000  ...          8787  보물상자 열기\n",
            "73703  NaN  2021-08-09 23:59:03.863000  ...          8792  보물상자 열기\n",
            "73704  NaN  2021-08-09 23:59:03.863000  ...          8782  보물상자 열기\n",
            "73705  NaN  2021-08-09 23:59:03.867000  ...          8797  보물상자 열기\n",
            "73706  NaN  2021-08-09 23:59:03.867000  ...          8797  보물상자 열기\n",
            "\n",
            "[73707 rows x 10 columns]\n"
          ]
        }
      ]
    },
    {
      "cell_type": "code",
      "metadata": {
        "id": "Km_8MhvZH4O3"
      },
      "source": [
        "fd_tr = fd[fd['fdDesc'].str.contains('보물상자') == True]"
      ],
      "execution_count": 35,
      "outputs": []
    },
    {
      "cell_type": "code",
      "metadata": {
        "colab": {
          "base_uri": "https://localhost:8080/"
        },
        "id": "EnKtFCb3K1F0",
        "outputId": "8ab81758-7fc7-430c-e60d-83d6dca3b24e"
      },
      "source": [
        "print(fd_tr)"
      ],
      "execution_count": 36,
      "outputs": [
        {
          "output_type": "stream",
          "name": "stdout",
          "text": [
            "       Unnamed: 0                  Unnamed: 1  ... Unnamed: 8 Unnamed: 9\n",
            "514           NaN  2021-07-07 06:34:46.780000  ...       1086    보물상자 열기\n",
            "515           NaN  2021-07-07 06:34:51.547000  ...       1119    보물상자 열기\n",
            "516           NaN  2021-07-07 06:34:53.610000  ...       1131    보물상자 열기\n",
            "517           NaN  2021-07-07 06:34:56.080000  ...       1441    보물상자 열기\n",
            "518           NaN  2021-07-07 06:35:00.723000  ...       1446    보물상자 열기\n",
            "...           ...                         ...  ...        ...        ...\n",
            "73704         NaN  2021-08-09 23:59:03.863000  ...       8787    보물상자 열기\n",
            "73705         NaN  2021-08-09 23:59:03.863000  ...       8792    보물상자 열기\n",
            "73706         NaN  2021-08-09 23:59:03.863000  ...       8782    보물상자 열기\n",
            "73707         NaN  2021-08-09 23:59:03.867000  ...       8797    보물상자 열기\n",
            "73708         NaN  2021-08-09 23:59:03.867000  ...       8797    보물상자 열기\n",
            "\n",
            "[62041 rows x 10 columns]\n"
          ]
        }
      ]
    },
    {
      "cell_type": "code",
      "metadata": {
        "colab": {
          "base_uri": "https://localhost:8080/"
        },
        "id": "NuLEqa5RZmEu",
        "outputId": "b82481ea-5b80-4341-9cdd-4fc40b92f413"
      },
      "source": [
        "print(fd_tr.count())"
      ],
      "execution_count": 66,
      "outputs": [
        {
          "output_type": "stream",
          "name": "stdout",
          "text": [
            "Unnamed: 0        0\n",
            "Unnamed: 1    62041\n",
            "Unnamed: 2    62041\n",
            "Unnamed: 3    62041\n",
            "Unnamed: 4    62041\n",
            "Unnamed: 5    62041\n",
            "Unnamed: 6    62041\n",
            "Unnamed: 7    62041\n",
            "Unnamed: 8    62041\n",
            "Unnamed: 9    62041\n",
            "dtype: int64\n"
          ]
        }
      ]
    },
    {
      "cell_type": "code",
      "metadata": {
        "colab": {
          "base_uri": "https://localhost:8080/"
        },
        "id": "5naEGkdfMFTC",
        "outputId": "c865147e-7f2d-4da5-ccf4-2468ba2500a6"
      },
      "source": [
        "fd_q = fd[fd['fdDesc'].str.contains('보상') == True]\n",
        "\n",
        "print(fd_q)"
      ],
      "execution_count": 32,
      "outputs": [
        {
          "output_type": "stream",
          "name": "stdout",
          "text": [
            "       Unnamed: 0                  Unnamed: 1  ... Unnamed: 8      Unnamed: 9\n",
            "7             NaN  2021-07-07 05:45:40.410000  ...         16           미션 보상\n",
            "510           NaN  2021-07-07 06:33:57.880000  ...        856           미션 보상\n",
            "721           NaN  2021-07-07 08:32:34.067000  ...        381           미션 보상\n",
            "1078          NaN  2021-07-07 09:16:18.097000  ...        976           미션 보상\n",
            "1171          NaN  2021-07-07 09:21:53.180000  ...       1742  경쟁 이벤트 포인트별 보상\n",
            "...           ...                         ...  ...        ...             ...\n",
            "73290         NaN  2021-08-09 22:20:25.397000  ...      14933          기사단 보상\n",
            "73291         NaN  2021-08-09 22:20:27.053000  ...      14934          기사단 보상\n",
            "73301         NaN  2021-08-09 22:33:13.517000  ...      16091          기사단 보상\n",
            "73370         NaN  2021-08-09 22:54:36.667000  ...      16092          기사단 보상\n",
            "73399         NaN  2021-08-09 23:07:42.837000  ...      12805          기사단 보상\n",
            "\n",
            "[6372 rows x 10 columns]\n"
          ]
        }
      ]
    },
    {
      "cell_type": "code",
      "metadata": {
        "colab": {
          "base_uri": "https://localhost:8080/"
        },
        "id": "aZ_sxqDBMwZc",
        "outputId": "dc9a44f7-ce08-42fe-d804-933ff3b55622"
      },
      "source": [
        "print(fd_q.count())"
      ],
      "execution_count": 67,
      "outputs": [
        {
          "output_type": "stream",
          "name": "stdout",
          "text": [
            "Unnamed: 0       0\n",
            "Unnamed: 1    6372\n",
            "Unnamed: 2    6372\n",
            "Unnamed: 3    6372\n",
            "Unnamed: 4    6372\n",
            "Unnamed: 5    6372\n",
            "Unnamed: 6    6372\n",
            "Unnamed: 7    6372\n",
            "Unnamed: 8    6372\n",
            "Unnamed: 9    6372\n",
            "dtype: int64\n"
          ]
        }
      ]
    },
    {
      "cell_type": "code",
      "metadata": {
        "colab": {
          "base_uri": "https://localhost:8080/"
        },
        "id": "rcmH9oSX1842",
        "outputId": "c8079784-3496-4533-822e-3feea432b975"
      },
      "source": [
        "fd_u = fd.groupby('Unnamed: 2').size()\n",
        "\n",
        "print(fd_u)\n",
        "print(fd_u.count())"
      ],
      "execution_count": 110,
      "outputs": [
        {
          "output_type": "stream",
          "name": "stdout",
          "text": [
            "Unnamed: 2\n",
            "46015658          7179\n",
            "49208205          3305\n",
            "49829987          2167\n",
            "50852025          2750\n",
            "56151953          1801\n",
            "56221291         25048\n",
            "57670822           609\n",
            "57798075          4830\n",
            "58131623          2626\n",
            "60028001          2582\n",
            "79201071          2298\n",
            "100904023         1616\n",
            "156455378        11703\n",
            "158873969         5193\n",
            "fdAuthUserNum        1\n",
            "dtype: int64\n",
            "15\n"
          ]
        }
      ]
    },
    {
      "cell_type": "code",
      "metadata": {
        "colab": {
          "base_uri": "https://localhost:8080/"
        },
        "id": "AnwK_OiOqT1A",
        "outputId": "dc419f66-f350-426b-e0d7-786aee62a819"
      },
      "source": [
        "fd_u = fd.groupby('fdUserNum').size()\n",
        "\n",
        "print(fd_u)\n",
        "print(fd_u.count())"
      ],
      "execution_count": 109,
      "outputs": [
        {
          "output_type": "stream",
          "name": "stdout",
          "text": [
            "Unnamed: 3\n",
            "5250890       7179\n",
            "7696293       3305\n",
            "8181512       2167\n",
            "8972974       2750\n",
            "9561678      11703\n",
            "13423277      1801\n",
            "13484287     25048\n",
            "14809816       609\n",
            "14918959      4830\n",
            "15221565      2626\n",
            "16978750      2582\n",
            "18561683      2298\n",
            "18944996      1616\n",
            "20329616      5193\n",
            "fdUserNum        1\n",
            "dtype: int64\n",
            "15\n"
          ]
        }
      ]
    },
    {
      "cell_type": "code",
      "metadata": {
        "colab": {
          "base_uri": "https://localhost:8080/"
        },
        "id": "4gDUHw-72AZ4",
        "outputId": "ee9dd700-d327-4c12-e932-79adfc2f26ac"
      },
      "source": [
        "fd_u = fd.groupby('Unnamed: 4').size()\n",
        "\n",
        "print(fd_u)\n",
        "print(fd_u.count())"
      ],
      "execution_count": 111,
      "outputs": [
        {
          "output_type": "stream",
          "name": "stdout",
          "text": [
            "Unnamed: 4\n",
            "Headcut          7179\n",
            "SlimeRancher     1801\n",
            "aespa            2750\n",
            "fdNickname          1\n",
            "강윤오              2582\n",
            "댱쁘                982\n",
            "맥국수               609\n",
            "무쮜               2626\n",
            "박명하              2298\n",
            "사형소              2167\n",
            "상대               4830\n",
            "스타              11703\n",
            "썬OI              1616\n",
            "유리성             25048\n",
            "카카오스토리           3305\n",
            "형상               4211\n",
            "dtype: int64\n",
            "16\n"
          ]
        }
      ]
    },
    {
      "cell_type": "code",
      "metadata": {
        "colab": {
          "base_uri": "https://localhost:8080/"
        },
        "id": "6kK1VYbSr_LP",
        "outputId": "817934be-7bb0-461f-8c51-21eb111c918b"
      },
      "source": [
        "fd_count = fd.groupby('fdDesc').size()\n",
        "\n",
        "print(fd_count)"
      ],
      "execution_count": 95,
      "outputs": [
        {
          "output_type": "stream",
          "name": "stdout",
          "text": [
            "Unnamed: 9\n",
            "GM툴 - 아이템 지급                            500\n",
            "fdDesc                                    1\n",
            "usp_Get_Archives_Reward                  17\n",
            "usp_SeasonChannel_UserWinnerReward      609\n",
            "게임 결과 보상                                 97\n",
            "경쟁 이벤트 포인트별 보상                          193\n",
            "교환시스템 사용                                484\n",
            "구매결정                                     65\n",
            "기념일 오브젝트 사용                             196\n",
            "기념일 이벤트                                   7\n",
            "기사단 보상                                  143\n",
            "낚시 획득                                   156\n",
            "미션 보상                                  5881\n",
            "보물상자 열기                               62041\n",
            "선물함                                    1255\n",
            "출석체크 보상                                  25\n",
            "퀘스트 보상                                   33\n",
            "테일즈 마블 주사위 던지기                         1668\n",
            "할인 쿠폰 사용                                337\n",
            "dtype: int64\n"
          ]
        }
      ]
    },
    {
      "cell_type": "code",
      "metadata": {
        "colab": {
          "base_uri": "https://localhost:8080/"
        },
        "id": "Lzkg-ff0qM8F",
        "outputId": "74b02cb5-c214-4812-c2f7-98473ab5a8f9"
      },
      "source": [
        "fd_g1 = fd.loc[fd['fdDesc']=='게임 결과 보상'].groupby('fdUserNum')['fdUserNum'].count().sort_values(ascending=False)\n",
        "\n",
        "print(fd_g1)\n",
        "print(fd_g1.count())"
      ],
      "execution_count": 213,
      "outputs": [
        {
          "output_type": "stream",
          "name": "stdout",
          "text": [
            "fdUserNum\n",
            "14918959    24\n",
            "16978750    23\n",
            "15221565    18\n",
            "5250890      9\n",
            "8972974      8\n",
            "18561683     5\n",
            "8181512      5\n",
            "18944996     2\n",
            "13423277     2\n",
            "7696293      1\n",
            "Name: fdUserNum, dtype: int64\n",
            "10\n"
          ]
        }
      ]
    },
    {
      "cell_type": "code",
      "metadata": {
        "id": "D64ymJQFwu65"
      },
      "source": [
        "fd.drop(['fdCount', 'fdItemName', 'fdDateTime', 'fdNickname', 'fdResultCount', 'fdItemNum', 'fdAuthUserNum' ], axis=1, inplace=True)"
      ],
      "execution_count": 269,
      "outputs": []
    },
    {
      "cell_type": "code",
      "metadata": {
        "id": "h8l-43ntzFnZ"
      },
      "source": [
        "fd.dropna(axis=1, inplace=True)"
      ],
      "execution_count": 270,
      "outputs": []
    },
    {
      "cell_type": "code",
      "metadata": {
        "colab": {
          "base_uri": "https://localhost:8080/",
          "height": 424
        },
        "id": "JXzr7FwczTm3",
        "outputId": "9b1e6cf1-ef0a-42e6-cb02-d4f184b4bfa1"
      },
      "source": [
        "fd"
      ],
      "execution_count": 271,
      "outputs": [
        {
          "output_type": "execute_result",
          "data": {
            "text/html": [
              "<div>\n",
              "<style scoped>\n",
              "    .dataframe tbody tr th:only-of-type {\n",
              "        vertical-align: middle;\n",
              "    }\n",
              "\n",
              "    .dataframe tbody tr th {\n",
              "        vertical-align: top;\n",
              "    }\n",
              "\n",
              "    .dataframe thead th {\n",
              "        text-align: right;\n",
              "    }\n",
              "</style>\n",
              "<table border=\"1\" class=\"dataframe\">\n",
              "  <thead>\n",
              "    <tr style=\"text-align: right;\">\n",
              "      <th></th>\n",
              "      <th>fdUserNum</th>\n",
              "      <th>fdDesc</th>\n",
              "    </tr>\n",
              "  </thead>\n",
              "  <tbody>\n",
              "    <tr>\n",
              "      <th>0</th>\n",
              "      <td>13423277</td>\n",
              "      <td>선물함</td>\n",
              "    </tr>\n",
              "    <tr>\n",
              "      <th>1</th>\n",
              "      <td>18561683</td>\n",
              "      <td>선물함</td>\n",
              "    </tr>\n",
              "    <tr>\n",
              "      <th>2</th>\n",
              "      <td>20329616</td>\n",
              "      <td>선물함</td>\n",
              "    </tr>\n",
              "    <tr>\n",
              "      <th>3</th>\n",
              "      <td>9561678</td>\n",
              "      <td>선물함</td>\n",
              "    </tr>\n",
              "    <tr>\n",
              "      <th>4</th>\n",
              "      <td>14918959</td>\n",
              "      <td>선물함</td>\n",
              "    </tr>\n",
              "    <tr>\n",
              "      <th>...</th>\n",
              "      <td>...</td>\n",
              "      <td>...</td>\n",
              "    </tr>\n",
              "    <tr>\n",
              "      <th>73702</th>\n",
              "      <td>5250890</td>\n",
              "      <td>보물상자 열기</td>\n",
              "    </tr>\n",
              "    <tr>\n",
              "      <th>73703</th>\n",
              "      <td>5250890</td>\n",
              "      <td>보물상자 열기</td>\n",
              "    </tr>\n",
              "    <tr>\n",
              "      <th>73704</th>\n",
              "      <td>5250890</td>\n",
              "      <td>보물상자 열기</td>\n",
              "    </tr>\n",
              "    <tr>\n",
              "      <th>73705</th>\n",
              "      <td>5250890</td>\n",
              "      <td>보물상자 열기</td>\n",
              "    </tr>\n",
              "    <tr>\n",
              "      <th>73706</th>\n",
              "      <td>5250890</td>\n",
              "      <td>보물상자 열기</td>\n",
              "    </tr>\n",
              "  </tbody>\n",
              "</table>\n",
              "<p>73707 rows × 2 columns</p>\n",
              "</div>"
            ],
            "text/plain": [
              "      fdUserNum   fdDesc\n",
              "0      13423277      선물함\n",
              "1      18561683      선물함\n",
              "2      20329616      선물함\n",
              "3       9561678      선물함\n",
              "4      14918959      선물함\n",
              "...         ...      ...\n",
              "73702   5250890  보물상자 열기\n",
              "73703   5250890  보물상자 열기\n",
              "73704   5250890  보물상자 열기\n",
              "73705   5250890  보물상자 열기\n",
              "73706   5250890  보물상자 열기\n",
              "\n",
              "[73707 rows x 2 columns]"
            ]
          },
          "metadata": {},
          "execution_count": 271
        }
      ]
    },
    {
      "cell_type": "code",
      "metadata": {
        "colab": {
          "base_uri": "https://localhost:8080/",
          "height": 437
        },
        "id": "AhZCM22UtxDi",
        "outputId": "028b9660-8203-407a-c2a3-60f3fbeed747"
      },
      "source": [
        "fd_g1_r = fd.set_index(['fdDesc', 'fdUserNum']).groupby(level=[1, 0]).count()\n",
        "\n",
        "fd_g1_r\n",
        "\n",
        "# fd_g1_re = fd_g1_r.loc[fd_g1_r['fdDesc']=='게임 결과 보상'].groupby('fdUserNum')['fdUserNum'].count().sort_values(ascending=False)\n",
        "# print(fd_g1_r)\n",
        "# print(fd_g1_re)\n"
      ],
      "execution_count": 274,
      "outputs": [
        {
          "output_type": "execute_result",
          "data": {
            "text/html": [
              "<div>\n",
              "<style scoped>\n",
              "    .dataframe tbody tr th:only-of-type {\n",
              "        vertical-align: middle;\n",
              "    }\n",
              "\n",
              "    .dataframe tbody tr th {\n",
              "        vertical-align: top;\n",
              "    }\n",
              "\n",
              "    .dataframe thead th {\n",
              "        text-align: right;\n",
              "    }\n",
              "</style>\n",
              "<table border=\"1\" class=\"dataframe\">\n",
              "  <thead>\n",
              "    <tr style=\"text-align: right;\">\n",
              "      <th></th>\n",
              "      <th></th>\n",
              "    </tr>\n",
              "    <tr>\n",
              "      <th>fdUserNum</th>\n",
              "      <th>fdDesc</th>\n",
              "    </tr>\n",
              "  </thead>\n",
              "  <tbody>\n",
              "    <tr>\n",
              "      <th rowspan=\"5\" valign=\"top\">5250890</th>\n",
              "      <th>usp_Get_Archives_Reward</th>\n",
              "    </tr>\n",
              "    <tr>\n",
              "      <th>usp_SeasonChannel_UserWinnerReward</th>\n",
              "    </tr>\n",
              "    <tr>\n",
              "      <th>게임 결과 보상</th>\n",
              "    </tr>\n",
              "    <tr>\n",
              "      <th>경쟁 이벤트 포인트별 보상</th>\n",
              "    </tr>\n",
              "    <tr>\n",
              "      <th>교환시스템 사용</th>\n",
              "    </tr>\n",
              "    <tr>\n",
              "      <th>...</th>\n",
              "      <th>...</th>\n",
              "    </tr>\n",
              "    <tr>\n",
              "      <th rowspan=\"5\" valign=\"top\">20329616</th>\n",
              "      <th>미션 보상</th>\n",
              "    </tr>\n",
              "    <tr>\n",
              "      <th>보물상자 열기</th>\n",
              "    </tr>\n",
              "    <tr>\n",
              "      <th>선물함</th>\n",
              "    </tr>\n",
              "    <tr>\n",
              "      <th>출석체크 보상</th>\n",
              "    </tr>\n",
              "    <tr>\n",
              "      <th>할인 쿠폰 사용</th>\n",
              "    </tr>\n",
              "  </tbody>\n",
              "</table>\n",
              "<p>192 rows × 0 columns</p>\n",
              "</div>"
            ],
            "text/plain": [
              "Empty DataFrame\n",
              "Columns: []\n",
              "Index: [(5250890, usp_Get_Archives_Reward), (5250890, usp_SeasonChannel_UserWinnerReward), (5250890, 게임 결과 보상), (5250890, 경쟁 이벤트 포인트별 보상), (5250890, 교환시스템 사용), (5250890, 기념일 오브젝트 사용), (5250890, 기념일 이벤트), (5250890, 기사단 보상), (5250890, 낚시 획득), (5250890, 미션 보상), (5250890, 보물상자 열기), (5250890, 선물함), (5250890, 출석체크 보상), (5250890, 퀘스트 보상), (5250890, 테일즈 마블 주사위 던지기), (5250890, 할인 쿠폰 사용), (7696293, usp_Get_Archives_Reward), (7696293, usp_SeasonChannel_UserWinnerReward), (7696293, 게임 결과 보상), (7696293, 경쟁 이벤트 포인트별 보상), (7696293, 교환시스템 사용), (7696293, 기념일 오브젝트 사용), (7696293, 기념일 이벤트), (7696293, 기사단 보상), (7696293, 낚시 획득), (7696293, 미션 보상), (7696293, 보물상자 열기), (7696293, 선물함), (7696293, 출석체크 보상), (7696293, 퀘스트 보상), (7696293, 테일즈 마블 주사위 던지기), (7696293, 할인 쿠폰 사용), (8181512, usp_Get_Archives_Reward), (8181512, usp_SeasonChannel_UserWinnerReward), (8181512, 게임 결과 보상), (8181512, 경쟁 이벤트 포인트별 보상), (8181512, 교환시스템 사용), (8181512, 기념일 오브젝트 사용), (8181512, 기념일 이벤트), (8181512, 낚시 획득), (8181512, 미션 보상), (8181512, 보물상자 열기), (8181512, 선물함), (8181512, 출석체크 보상), (8181512, 퀘스트 보상), (8181512, 테일즈 마블 주사위 던지기), (8181512, 할인 쿠폰 사용), (8972974, usp_Get_Archives_Reward), (8972974, usp_SeasonChannel_UserWinnerReward), (8972974, 게임 결과 보상), (8972974, 경쟁 이벤트 포인트별 보상), (8972974, 교환시스템 사용), (8972974, 구매결정), (8972974, 기념일 오브젝트 사용), (8972974, 기념일 이벤트), (8972974, 기사단 보상), (8972974, 낚시 획득), (8972974, 미션 보상), (8972974, 보물상자 열기), (8972974, 선물함), (8972974, 출석체크 보상), (8972974, 퀘스트 보상), (8972974, 테일즈 마블 주사위 던지기), (8972974, 할인 쿠폰 사용), (9561678, usp_Get_Archives_Reward), (9561678, usp_SeasonChannel_UserWinnerReward), (9561678, 경쟁 이벤트 포인트별 보상), (9561678, 교환시스템 사용), (9561678, 구매결정), (9561678, 기념일 오브젝트 사용), (9561678, 기념일 이벤트), (9561678, 기사단 보상), (9561678, 낚시 획득), (9561678, 미션 보상), (9561678, 보물상자 열기), (9561678, 선물함), (9561678, 출석체크 보상), (9561678, 퀘스트 보상), (9561678, 테일즈 마블 주사위 던지기), (9561678, 할인 쿠폰 사용), (13423277, usp_SeasonChannel_UserWinnerReward), (13423277, 게임 결과 보상), (13423277, 경쟁 이벤트 포인트별 보상), (13423277, 기사단 보상), (13423277, 낚시 획득), (13423277, 미션 보상), (13423277, 보물상자 열기), (13423277, 선물함), (13423277, 출석체크 보상), (13423277, 퀘스트 보상), (13423277, 테일즈 마블 주사위 던지기), (13423277, 할인 쿠폰 사용), (13484287, usp_SeasonChannel_UserWinnerReward), (13484287, 경쟁 이벤트 포인트별 보상), (13484287, 교환시스템 사용), (13484287, 기념일 오브젝트 사용), (13484287, 낚시 획득), (13484287, 미션 보상), (13484287, 보물상자 열기), (13484287, 선물함), ...]\n",
              "\n",
              "[192 rows x 0 columns]"
            ]
          },
          "metadata": {},
          "execution_count": 274
        }
      ]
    },
    {
      "cell_type": "code",
      "metadata": {
        "colab": {
          "base_uri": "https://localhost:8080/"
        },
        "id": "6qO2NJtosBC-",
        "outputId": "7703126a-61d0-4d7e-f6ab-95fdad4874c9"
      },
      "source": [
        "fd_g2 = fd.loc[fd['fdDesc']=='기사단 보상'].groupby('fdUserNum')['fdUserNum'].count().sort_values(ascending=False)\n",
        "print(fd_g2)\n",
        "print(fd_g2.count())"
      ],
      "execution_count": 199,
      "outputs": [
        {
          "output_type": "stream",
          "name": "stdout",
          "text": [
            "fdUserNum\n",
            "13423277    48\n",
            "5250890     39\n",
            "18561683    31\n",
            "7696293     10\n",
            "8972974      9\n",
            "9561678      4\n",
            "16978750     2\n",
            "Name: fdUserNum, dtype: int64\n",
            "7\n"
          ]
        }
      ]
    },
    {
      "cell_type": "code",
      "metadata": {
        "colab": {
          "base_uri": "https://localhost:8080/"
        },
        "id": "ivKmbTLis-TE",
        "outputId": "3d32e208-1b08-455d-9f6e-1fd219fa241c"
      },
      "source": [
        "fd_g3 = fd.loc[fd['fdDesc']=='보물상자 열기'].groupby('fdUserNum')['fdUserNum'].count().sort_values(ascending=False)\n",
        "print(fd_g3)\n",
        "print(fd_g3.count())"
      ],
      "execution_count": 297,
      "outputs": [
        {
          "output_type": "stream",
          "name": "stdout",
          "text": [
            "fdUserNum\n",
            "13484287    24633\n",
            "9561678     10155\n",
            "5250890      6013\n",
            "20329616     4790\n",
            "14918959     3671\n",
            "7696293      2584\n",
            "8972974      1796\n",
            "15221565     1586\n",
            "16978750     1557\n",
            "8181512      1351\n",
            "18944996     1350\n",
            "18561683     1302\n",
            "13423277     1200\n",
            "14809816       53\n",
            "Name: fdUserNum, dtype: int64\n",
            "14\n"
          ]
        }
      ]
    },
    {
      "cell_type": "code",
      "metadata": {
        "colab": {
          "base_uri": "https://localhost:8080/"
        },
        "id": "64hLQilFvVaa",
        "outputId": "ec458992-b1c9-4321-a75f-f068537a92c4"
      },
      "source": [
        "# 미션 보상\n",
        "condition1 = (fd['fdDesc'] == '미션 보상')\n",
        "\n",
        "# 퀘스트 보상\n",
        "condition2 = (fd['fdDesc'] == '퀘스트 보상')\n",
        "\n",
        "fd_g4 = fd.loc[condition1 | condition2].groupby('fdUserNum')['fdUserNum'].count().sort_values(ascending=False)\n",
        "print(fd_g4)\n",
        "print(fd_g4.count())"
      ],
      "execution_count": 201,
      "outputs": [
        {
          "output_type": "stream",
          "name": "stdout",
          "text": [
            "fdUserNum\n",
            "18561683    679\n",
            "14918959    652\n",
            "9561678     620\n",
            "16978750    617\n",
            "8972974     617\n",
            "15221565    600\n",
            "5250890     584\n",
            "8181512     555\n",
            "7696293     426\n",
            "13423277    375\n",
            "18944996    112\n",
            "13484287     62\n",
            "14809816     13\n",
            "20329616      2\n",
            "Name: fdUserNum, dtype: int64\n",
            "14\n"
          ]
        }
      ]
    },
    {
      "cell_type": "code",
      "metadata": {
        "colab": {
          "base_uri": "https://localhost:8080/"
        },
        "id": "gy1Bi7BwM7Sj",
        "outputId": "d14cbf5b-db16-485e-d926-45ca35379514"
      },
      "source": [
        "# GM툴 - 아이템 지급                            500\n",
        "# usp_Get_Archives_Reward                  17\n",
        "# usp_SeasonChannel_UserWinnerReward      609\n",
        "# 경쟁 이벤트 포인트별 보상                          193\n",
        "# 교환시스템 사용                                484\n",
        "# 구매결정                                     65\n",
        "# 기념일 오브젝트 사용                             196\n",
        "# 기념일 이벤트                                   7\n",
        "# 낚시 획득                                   156\n",
        "# 선물함                                    1255\n",
        "# 출석체크 보상                                  25\n",
        "# 테일즈 마블 주사위 던지기                         1668\n",
        "# 할인 쿠폰 사용                                337\n",
        "\n",
        "\n",
        "condition3 = (fd['fdDesc'] == 'GM툴 - 아이템 지급')\n",
        "\n",
        "\n",
        "condition4 = (fd['fdDesc'] == 'usp_Get_Archives_Reward')\n",
        "\n",
        "\n",
        "condition5 = (fd['fdDesc'] == 'usp_SeasonChannel_UserWinnerReward')\n",
        "\n",
        "\n",
        "condition6 = (fd['fdDesc'] == '경쟁 이벤트 포인트별 보상')\n",
        "\n",
        "\n",
        "condition7 = (fd['fdDesc'] == '교환시스템 사용')\n",
        "\n",
        "\n",
        "condition8 = (fd['fdDesc'] == '구매결정')\n",
        "\n",
        "\n",
        "condition9 = (fd['fdDesc'] == '기념일 오브젝트 사용')\n",
        "\n",
        "\n",
        "condition10 = (fd['fdDesc'] == '기념일 이벤트')\n",
        "\n",
        "\n",
        "condition11 = (fd['fdDesc'] == '낚시 획득')\n",
        "\n",
        "\n",
        "condition12 = (fd['fdDesc'] == '선물함')\n",
        "\n",
        "\n",
        "condition13 = (fd['fdDesc'] == '출석체크 보상')\n",
        "\n",
        "\n",
        "condition14 = (fd['fdDesc'] == '테일즈 마블 주사위 던지기')\n",
        "\n",
        "\n",
        "condition15 = (fd['fdDesc'] == '할인 쿠폰 사용')\n",
        "\n",
        "fd_g5 = fd.loc[condition3 | condition4 | condition5 | condition6 | condition7 | condition8 | condition9 | condition10\n",
        "               | condition11 | condition12 | condition13 | condition14 | condition15].groupby('fdUserNum')['fdUserNum'].count().sort_values(ascending=False)\n",
        "print(fd_g5)\n",
        "print(fd_g5.count())"
      ],
      "execution_count": 202,
      "outputs": [
        {
          "output_type": "stream",
          "name": "stdout",
          "text": [
            "fdUserNum\n",
            "9561678     924\n",
            "14809816    543\n",
            "5250890     534\n",
            "14918959    483\n",
            "15221565    422\n",
            "20329616    401\n",
            "16978750    383\n",
            "13484287    353\n",
            "8972974     320\n",
            "7696293     284\n",
            "18561683    281\n",
            "8181512     256\n",
            "13423277    176\n",
            "18944996    152\n",
            "Name: fdUserNum, dtype: int64\n",
            "14\n"
          ]
        }
      ]
    },
    {
      "cell_type": "code",
      "metadata": {
        "colab": {
          "base_uri": "https://localhost:8080/"
        },
        "id": "3cX5D70jQImx",
        "outputId": "353a5992-2f5b-481c-9fc2-01eee3e83508"
      },
      "source": [
        "df_frame = pd.concat([fd_g1, fd_g2, fd_g3, fd_g4, fd_g5])\n",
        "\n",
        "print(df_frame)\n",
        "print(df_frame.count())\n",
        "print(df_frame.sum())"
      ],
      "execution_count": 206,
      "outputs": [
        {
          "output_type": "stream",
          "name": "stdout",
          "text": [
            "fdUserNum\n",
            "14918959       24\n",
            "16978750       23\n",
            "15221565       18\n",
            "5250890         9\n",
            "8972974         8\n",
            "18561683        5\n",
            "8181512         5\n",
            "18944996        2\n",
            "13423277        2\n",
            "7696293         1\n",
            "13423277       48\n",
            "5250890        39\n",
            "18561683       31\n",
            "7696293        10\n",
            "8972974         9\n",
            "9561678         4\n",
            "16978750        2\n",
            "13484287    24633\n",
            "9561678     10155\n",
            "5250890      6013\n",
            "20329616     4790\n",
            "14918959     3671\n",
            "7696293      2584\n",
            "8972974      1796\n",
            "15221565     1586\n",
            "16978750     1557\n",
            "8181512      1351\n",
            "18944996     1350\n",
            "18561683     1302\n",
            "13423277     1200\n",
            "14809816       53\n",
            "18561683      679\n",
            "14918959      652\n",
            "9561678       620\n",
            "16978750      617\n",
            "8972974       617\n",
            "15221565      600\n",
            "5250890       584\n",
            "8181512       555\n",
            "7696293       426\n",
            "13423277      375\n",
            "18944996      112\n",
            "13484287       62\n",
            "14809816       13\n",
            "20329616        2\n",
            "9561678       924\n",
            "14809816      543\n",
            "5250890       534\n",
            "14918959      483\n",
            "15221565      422\n",
            "20329616      401\n",
            "16978750      383\n",
            "13484287      353\n",
            "8972974       320\n",
            "7696293       284\n",
            "18561683      281\n",
            "8181512       256\n",
            "13423277      176\n",
            "18944996      152\n",
            "Name: fdUserNum, dtype: int64\n",
            "59\n",
            "73707\n"
          ]
        }
      ]
    },
    {
      "cell_type": "code",
      "metadata": {
        "id": "o_I5pIdqYW3P"
      },
      "source": [
        "df_frame.to_excel('fdUserNumCount.xlsx')"
      ],
      "execution_count": 207,
      "outputs": []
    },
    {
      "cell_type": "code",
      "metadata": {
        "id": "Rxld3-TbdFv0"
      },
      "source": [
        "fd2 = pd.read_excel('감정의제도코인.xlsx', sheet_name = 1)"
      ],
      "execution_count": 278,
      "outputs": []
    },
    {
      "cell_type": "code",
      "metadata": {
        "colab": {
          "base_uri": "https://localhost:8080/"
        },
        "id": "RSXrxjR4dWmQ",
        "outputId": "3846ee86-5a24-45ed-fa9e-f923ee7e7fde"
      },
      "source": [
        "#행 삭제\n",
        "\n",
        "# fd2.columns = fd2.iloc[0]\n",
        "# fd2 = fd2.reindex(fd2.index.drop(0)).reset_index(drop=True)\n",
        "# fd2.columns.name = None\n",
        "\n",
        "print(fd2)"
      ],
      "execution_count": 279,
      "outputs": [
        {
          "output_type": "stream",
          "name": "stdout",
          "text": [
            "       NaN                  fdDateTime  ... fdAll    fdDesc\n",
            "0      NaN  2021-07-07 19:21:21.520000  ...     0   캡술머신 사용\n",
            "1      NaN  2021-07-07 19:21:52.097000  ...     0   캡술머신 사용\n",
            "2      NaN  2021-07-07 19:21:57.920000  ...     0   캡술머신 사용\n",
            "3      NaN  2021-07-07 19:22:28.043000  ...     0   캡술머신 사용\n",
            "4      NaN  2021-07-07 19:22:33.777000  ...     0   캡술머신 사용\n",
            "...    ...                         ...  ...   ...       ...\n",
            "20345  NaN  2021-08-08 22:03:19.520000  ...     0  교환시스템 사용\n",
            "20346  NaN  2021-08-08 22:03:35.137000  ...     0     휴몽 뽑기\n",
            "20347  NaN  2021-08-08 22:03:37.863000  ...     0     휴몽 뽑기\n",
            "20348  NaN  2021-08-08 22:03:39.750000  ...     0     휴몽 뽑기\n",
            "20349  NaN  2021-08-08 22:03:41.673000  ...     0     휴몽 뽑기\n",
            "\n",
            "[20350 rows x 10 columns]\n"
          ]
        }
      ]
    },
    {
      "cell_type": "code",
      "metadata": {
        "colab": {
          "base_uri": "https://localhost:8080/"
        },
        "id": "T8-mnyYJdaSs",
        "outputId": "233421a2-199f-40e9-d58b-c1571807f8a3"
      },
      "source": [
        "fd2.info()"
      ],
      "execution_count": 286,
      "outputs": [
        {
          "output_type": "stream",
          "name": "stdout",
          "text": [
            "<class 'pandas.core.frame.DataFrame'>\n",
            "RangeIndex: 20350 entries, 0 to 20349\n",
            "Data columns (total 10 columns):\n",
            " #   Column         Non-Null Count  Dtype  \n",
            "---  ------         --------------  -----  \n",
            " 0   nan            0 non-null      float64\n",
            " 1   fdDateTime     20350 non-null  object \n",
            " 2   fdAuthUserNum  20350 non-null  object \n",
            " 3   fdUserNum      20350 non-null  object \n",
            " 4   fdNickname     20350 non-null  object \n",
            " 5   fdItemNum      20350 non-null  object \n",
            " 6   fdDelCount     20350 non-null  object \n",
            " 7   fdBeforeCount  20350 non-null  object \n",
            " 8   fdAll          20350 non-null  object \n",
            " 9   fdDesc         20350 non-null  object \n",
            "dtypes: float64(1), object(9)\n",
            "memory usage: 1.6+ MB\n"
          ]
        }
      ]
    },
    {
      "cell_type": "code",
      "metadata": {
        "colab": {
          "base_uri": "https://localhost:8080/"
        },
        "id": "KHvM0ADMpAqi",
        "outputId": "7a6262df-ebdc-4768-e625-bdca991c4178"
      },
      "source": [
        "fd2_u = fd2.groupby('fdUserNum').size()\n",
        "\n",
        "print(fd2_u)"
      ],
      "execution_count": 283,
      "outputs": [
        {
          "output_type": "stream",
          "name": "stdout",
          "text": [
            "fdUserNum\n",
            "5250890     2388\n",
            "7696293      580\n",
            "8181512      109\n",
            "8972974      632\n",
            "9561678     3600\n",
            "13423277      72\n",
            "13484287    7740\n",
            "14809816      29\n",
            "14918959     484\n",
            "15221565     510\n",
            "16978750     169\n",
            "18561683     224\n",
            "18944996     148\n",
            "20329616    3665\n",
            "dtype: int64\n"
          ]
        }
      ]
    },
    {
      "cell_type": "code",
      "metadata": {
        "colab": {
          "base_uri": "https://localhost:8080/"
        },
        "id": "vJ9T-e8udgCY",
        "outputId": "f140a88c-878c-4628-c4b6-d91a8c54d698"
      },
      "source": [
        "fd2_count = fd2.groupby('fdDesc').size()\n",
        "\n",
        "print(fd2_count)"
      ],
      "execution_count": 288,
      "outputs": [
        {
          "output_type": "stream",
          "name": "stdout",
          "text": [
            "fdDesc\n",
            "usp_PrivatePuzzle_Pick                              1569\n",
            "usp_competitionEvent_UpgradeSeasonPass                13\n",
            "usp_competitionEvent_addPoint_ToNextLevelReward      146\n",
            "교환시스템 사용                                             113\n",
            "캡술머신 사용                                            10198\n",
            "테일즈 마블 주사위 게이즈 채우기                                  4251\n",
            "휴몽 뽑기                                               4060\n",
            "dtype: int64\n"
          ]
        }
      ]
    },
    {
      "cell_type": "code",
      "metadata": {
        "colab": {
          "base_uri": "https://localhost:8080/"
        },
        "id": "HyEDIb94pZ8s",
        "outputId": "0c1b4145-0719-449b-8938-388082d3e0b2"
      },
      "source": [
        "fd2_g1 = fd2.loc[fd2['fdDesc']=='캡술머신 사용'].groupby('fdUserNum')['fdUserNum'].count().sort_values(ascending=False)\n",
        "print(fd2_g1)\n",
        "print(fd2_g1.count())"
      ],
      "execution_count": 289,
      "outputs": [
        {
          "output_type": "stream",
          "name": "stdout",
          "text": [
            "fdUserNum\n",
            "13484287    5687\n",
            "20329616    1208\n",
            "9561678     1032\n",
            "5250890      973\n",
            "8972974      389\n",
            "14918959     328\n",
            "15221565     236\n",
            "18944996      96\n",
            "18561683      81\n",
            "16978750      68\n",
            "7696293       64\n",
            "13423277      34\n",
            "14809816       1\n",
            "8181512        1\n",
            "Name: fdUserNum, dtype: int64\n",
            "14\n"
          ]
        }
      ]
    },
    {
      "cell_type": "code",
      "metadata": {
        "colab": {
          "base_uri": "https://localhost:8080/"
        },
        "id": "irjoPLlA2NBn",
        "outputId": "880a6996-1861-46ae-f40a-72e71b495ffa"
      },
      "source": [
        "fd2_g2 = fd2.loc[fd2['fdDesc']=='usp_PrivatePuzzle_Pick'].groupby('fdUserNum')['fdUserNum'].count().sort_values(ascending=False)\n",
        "print(fd2_g2)\n",
        "print(fd2_g2.count())"
      ],
      "execution_count": 290,
      "outputs": [
        {
          "output_type": "stream",
          "name": "stdout",
          "text": [
            "fdUserNum\n",
            "13484287    409\n",
            "20329616    361\n",
            "9561678     293\n",
            "5250890     125\n",
            "16978750    100\n",
            "14918959     85\n",
            "15221565     69\n",
            "7696293      64\n",
            "8181512      18\n",
            "18944996     16\n",
            "18561683     16\n",
            "8972974      13\n",
            "Name: fdUserNum, dtype: int64\n",
            "12\n"
          ]
        }
      ]
    },
    {
      "cell_type": "code",
      "metadata": {
        "colab": {
          "base_uri": "https://localhost:8080/"
        },
        "id": "q96A9qaS2WCM",
        "outputId": "598073f2-2298-4517-95f0-f6d0e66f045e"
      },
      "source": [
        "fd2_g3 = fd2.loc[fd2['fdDesc']=='교환시스템 사용'].groupby('fdUserNum')['fdUserNum'].count().sort_values(ascending=False)\n",
        "print(fd2_g3)\n",
        "print(fd2_g3.count())"
      ],
      "execution_count": 291,
      "outputs": [
        {
          "output_type": "stream",
          "name": "stdout",
          "text": [
            "fdUserNum\n",
            "20329616    28\n",
            "14809816    20\n",
            "9561678     20\n",
            "13484287    17\n",
            "18944996    12\n",
            "13423277     9\n",
            "8972974      4\n",
            "15221565     1\n",
            "8181512      1\n",
            "7696293      1\n",
            "Name: fdUserNum, dtype: int64\n",
            "10\n"
          ]
        }
      ]
    },
    {
      "cell_type": "code",
      "metadata": {
        "colab": {
          "base_uri": "https://localhost:8080/"
        },
        "id": "Y0I2xZYJ2eNz",
        "outputId": "df333adf-ca99-48ea-9483-dd488610c178"
      },
      "source": [
        "fd2_g4 = fd2.loc[fd2['fdDesc']=='휴몽 뽑기'].groupby('fdUserNum')['fdUserNum'].count().sort_values(ascending=False)\n",
        "print(fd2_g4)\n",
        "print(fd2_g4.count())"
      ],
      "execution_count": 292,
      "outputs": [
        {
          "output_type": "stream",
          "name": "stdout",
          "text": [
            "fdUserNum\n",
            "20329616    2049\n",
            "13484287    1034\n",
            "9561678      815\n",
            "18561683      49\n",
            "14918959      49\n",
            "7696293       47\n",
            "8972974        9\n",
            "5250890        5\n",
            "15221565       2\n",
            "14809816       1\n",
            "Name: fdUserNum, dtype: int64\n",
            "10\n"
          ]
        }
      ]
    },
    {
      "cell_type": "code",
      "metadata": {
        "colab": {
          "base_uri": "https://localhost:8080/"
        },
        "id": "tmHZjZOE2lvM",
        "outputId": "fedc892d-36a2-4720-fc70-597891630434"
      },
      "source": [
        "fd2_g5 = fd2.loc[fd2['fdDesc']=='usp_competitionEvent_UpgradeSeasonPass'].groupby('fdUserNum')['fdUserNum'].count().sort_values(ascending=False)\n",
        "print(fd2_g5)\n",
        "print(fd2_g5.count())"
      ],
      "execution_count": 293,
      "outputs": [
        {
          "output_type": "stream",
          "name": "stdout",
          "text": [
            "fdUserNum\n",
            "20329616    1\n",
            "18944996    1\n",
            "18561683    1\n",
            "16978750    1\n",
            "15221565    1\n",
            "14918959    1\n",
            "13484287    1\n",
            "13423277    1\n",
            "9561678     1\n",
            "8972974     1\n",
            "8181512     1\n",
            "7696293     1\n",
            "5250890     1\n",
            "Name: fdUserNum, dtype: int64\n",
            "13\n"
          ]
        }
      ]
    },
    {
      "cell_type": "code",
      "metadata": {
        "colab": {
          "base_uri": "https://localhost:8080/"
        },
        "id": "obfK1YYk2-_d",
        "outputId": "a37956ab-ef13-40d1-bb9c-7e90e101da26"
      },
      "source": [
        "# 테일즈 마블 주사위 게이즈 채우기\n",
        "condition20 = (fd2['fdDesc'] == '테일즈 마블 주사위 게이즈 채우기')\n",
        "\n",
        "# usp_competitionEvent_addPoint_ToNextLevelReward\n",
        "condition21 = (fd2['fdDesc'] == 'usp_competitionEvent_addPoint_ToNextLevelReward')\n",
        "\n",
        "fd2_g5 = fd2.loc[condition20 | condition21].groupby('fdUserNum')['fdUserNum'].count().sort_values(ascending=False)\n",
        "print(fd2_g5)\n",
        "print(fd2_g5.count())"
      ],
      "execution_count": 295,
      "outputs": [
        {
          "output_type": "stream",
          "name": "stdout",
          "text": [
            "fdUserNum\n",
            "9561678     1439\n",
            "5250890     1284\n",
            "13484287     592\n",
            "7696293      403\n",
            "8972974      216\n",
            "15221565     201\n",
            "8181512       88\n",
            "18561683      77\n",
            "13423277      28\n",
            "18944996      23\n",
            "14918959      21\n",
            "20329616      18\n",
            "14809816       7\n",
            "Name: fdUserNum, dtype: int64\n",
            "13\n"
          ]
        }
      ]
    }
  ]
}